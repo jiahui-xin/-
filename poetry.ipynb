{
  "nbformat": 4,
  "nbformat_minor": 0,
  "metadata": {
    "colab": {
      "name": "poetry.ipynb",
      "provenance": [],
      "collapsed_sections": []
    },
    "kernelspec": {
      "name": "python3",
      "display_name": "Python 3"
    },
    "language_info": {
      "name": "python"
    },
    "gpuClass": "standard",
    "accelerator": "GPU"
  },
  "cells": [
    {
      "cell_type": "code",
      "source": [
        "from google.colab import drive\n",
        "drive.mount('/content/drive/')\n",
        "%cd /content/drive/MyDrive/poetry"
      ],
      "metadata": {
        "colab": {
          "base_uri": "https://localhost:8080/"
        },
        "id": "lF_tf5xyVO2q",
        "outputId": "9449db3d-59a5-49ae-b925-02113ccf3b33"
      },
      "execution_count": null,
      "outputs": [
        {
          "output_type": "stream",
          "name": "stdout",
          "text": [
            "Mounted at /content/drive/\n",
            "/content/drive/MyDrive/poetry\n"
          ]
        }
      ]
    },
    {
      "cell_type": "code",
      "source": [
        "'''\n",
        "    poetry-gen\n",
        "'''\n",
        "import torch\n",
        "import torch.nn as nn\n",
        "import torch.nn.functional as F\n",
        "import torch.optim as optim\n",
        "import numpy as np\n",
        "import random\n",
        "import matplotlib.pyplot as plt\n",
        "import time\n",
        "import os\n",
        "import sys"
      ],
      "metadata": {
        "id": "-sLHtUUphBKH"
      },
      "execution_count": null,
      "outputs": []
    },
    {
      "cell_type": "code",
      "source": [
        "raw_data=[]\n",
        "with open('lstm.txt','r') as f:\n",
        "\tfor line in f:\n",
        "\t\traw_data.append(line.strip('\\n'))\n",
        "print(raw_data)"
      ],
      "metadata": {
        "colab": {
          "base_uri": "https://localhost:8080/"
        },
        "id": "HrojEaiRCp00",
        "outputId": "6a42a03c-ccea-4eea-9643-ef4030a4dca5"
      },
      "execution_count": null,
      "outputs": [
        {
          "output_type": "stream",
          "name": "stdout",
          "text": [
            "['秦川雄帝宅，函谷壮皇居。', '绮殿千寻起，离宫百雉馀。', '连薨遥接汉，飞观迥凌虚。', '云日隐层阙，风烟出绮疏。', '岩廊罢机务，崇文聊驻辇。', '玉匣启龙图，金绳披凤篆。', '韦编断仍续，缥帙舒还卷。', '对此乃淹留，欹案观坟典。', '移步出词林，停舆欣武宴。', '雕弓写明月，骏马疑流电。', '惊雁落虚弦，啼猿悲急箭。', '阅赏诚多美，于兹乃忘倦。', '鸣笳临乐馆，眺听欢芳节。', '急管韵朱弦，清歌凝白雪。', '彩凤肃来仪，玄鹤纷成列。', '去兹郑卫声，雅音方可悦。', '芳辰追逸趣，禁苑信多奇。', '桥形通汉上，峰势接云危。', '烟霞交隐映，花鸟自参差。', '何如肆辙迹，万里赏瑶池。', '飞盖去芳园，兰桡游翠渚。', '萍间日彩乱，荷处香风举。', '桂楫满中川，弦歌振长屿。', '岂必汾河曲，方为欢宴所。', '落日双阙昏，回舆九重暮。', '长烟散初碧，皎月澄轻素。', '搴幌玩琴书，开轩引云雾。', '斜汉耿层阁，清风摇玉树。', '欢乐难再逢，芳辰良可惜。', '玉酒泛云罍，兰殽陈绮席。', '千钟合尧禹，百兽谐金石。', '得志重寸阴，忘怀轻尺璧。', '建章欢赏夕，二八尽妖妍。', '罗绮昭阳殿，芬芳玳瑁筵。', '佩移星正动，扇掩月初圆。', '无劳上悬圃，即此对神仙。', '以兹游观极，悠然独长想。', '披卷览前踪，抚躬寻既往。', '望古茅茨约，瞻今兰殿广。', '人道恶高危，虚心戒盈荡。', '奉天竭诚敬，临民思惠养。', '纳善察忠谏，明科慎刑赏。', '六五诚难继，四三非易仰。', '广待淳化敷，方嗣云亭响。', '塞外悲风切，交河冰已结。', '瀚海百重波，阴山千里雪。', '迥戍危烽火，层峦引高节。', '悠悠卷旆旌，饮马出长城。', '寒沙连骑迹，朔吹断边声。', '胡尘清玉塞，羌笛韵金钲。', '绝漠干戈戢，车徒振原隰。', '都尉反龙堆，将军旋马邑。', '扬麾氛雾静，纪石功名立。', '荒裔一戎衣，灵台凯歌入。', '执契静三边，持衡临万姓。', '玉彩辉关烛，金华流日镜。', '无为宇宙清，有美璇玑正。', '皎佩星连景，飘衣云结庆。', '戢武耀七德，升文辉九功。', '烟波澄旧碧，尘火息前红。', '霜野韬莲剑，关城罢月弓。', '钱缀榆天合，新城柳塞空。', '花销葱岭雪，縠尽流沙雾。', '秋驾转兢怀，春冰弥轸虑。', '书绝龙庭羽，烽休凤穴戍。', '衣宵寝二难，食旰餐三惧。', '翦暴兴先废，除凶存昔亡。', '圆盖归天壤，方舆入地荒。', '孔海池京邑，双河沼帝乡。', '循躬思励己，抚俗愧时康。', '元首伫盐梅，股肱惟辅弼。', '羽贤崆岭四，翼圣襄城七。', '浇俗庶反淳，替文聊就质。', '已知隆至道，共欢区宇一。', '条风开献节，灰律动初阳。', '百蛮奉遐赆，万国朝未央。', '虽无舜禹迹，幸欣天地康。', '车轨同八表，书文混四方。', '赫奕俨冠盖，纷纶盛服章。', '羽旄飞驰道，钟鼓震岩廊。', '组练辉霞色，霜戟耀朝光。', '晨宵怀至理，终愧抚遐荒。', '寿丘惟旧迹，酆邑乃前基。', '粤予承累圣，悬弧亦在兹。', '弱龄逢运改，提剑郁匡时。', '指麾八荒定，怀柔万国夷。', '端扆朝四岳，无为任百司。', '霜节明秋景，轻冰结水湄。', '芸黄遍原隰，禾颖积京畿。', '共乐还乡宴，欢比大风诗。', '代马依朔吹，惊禽愁昔丛。', '况兹承眷德，怀旧感深衷。', '积善忻馀庆，畅武悦成功。', '垂衣天下治，端拱车书同。', '白水巡前迹，丹陵幸旧宫。', '列筵欢故老，高宴聚新丰。', '驻跸抚田畯，回舆访牧童。', '瑞气萦丹阙，祥烟散碧空。', '孤屿含霜白，遥山带日红。', '于焉欢击筑，聊以咏南风。', '昔年怀壮气，提戈初仗节。', '心随朗日高，志与秋霜洁。', '移锋惊电起，转战长河决。', '营碎落星沉，阵卷横云裂。', '一挥氛沴静，再举鲸鲵灭。', '于兹俯旧原，属目驻华轩。', '沉沙无故迹，减灶有残痕。', '浪霞穿水净，峰雾抱莲昏。', '世途亟流易，人事殊今昔。', '长想眺前踪，抚躬聊自适。', '新丰停翠辇，谯邑驻鸣笳。', '园荒一径断，苔古半阶斜。', '前池消旧水，昔树发今花。', '一朝辞此地，四海遂为家。', '金舆巡白水，玉辇驻新丰。', '纽落藤披架，花残菊破丛。', '叶铺荒草蔓，流竭半池空。', '纫珮兰凋径，舒圭叶翦桐。', '昔地一蕃内，今宅九围中。', '架海波澄镜，韬戈器反农。', '慨然抚长剑，济世岂邀名。', '星旂纷电举，日羽肃天行。', '遍野屯万骑，临原驻五营。', '登山麾武节，背水纵神兵。', '崤函称地险，襟带壮两京。', '霜峰直临道，冰河曲绕城。', '古木参差影，寒猿断续声。', '冠盖往来合，风尘朝夕惊。', '高谈先马度，伪晓预鸡鸣。', '弃繻怀远志，封泥负壮情。', '翠野驻戎轩，卢龙转征旆。', '遥山丽如绮，长流萦似带。', '海气百重楼，岩松千丈盖。', '兹焉可游赏，何必襄城外。', '玄兔月初明，澄辉照辽碣。', '映云光暂隐，隔树花如缀。', '魄满桂枝圆，轮亏镜彩缺。', '临城却影散，带晕重围结。', '碧原开雾隰，绮岭峻霞城。', '烟峰高下翠，日浪浅深明。', '斑红妆蕊树，圆青压溜荆。', '迹岩劳傅想，窥野访莘情。', '韶光开令序，淑气动芳年。', '驻辇华林侧，高宴柏梁前。', '紫庭文珮满，丹墀衮绂连。', '九夷簉瑶席，五狄列琼筵。', '娱宾歌湛露，广乐奏钧天。', '清尊浮绿醑，雅曲韵朱弦。', '粤余君万国，还惭抚八埏。', '庶几保贞固，虚己厉求贤。', '未央初壮汉，阿房昔侈秦。', '在危犹骋丽，居奢遂役人。', '岂如家四海，日宇罄朝伦。', '扇天裁户旧，砌地翦基新。', '引月擎宵桂，飘云逼曙鳞。', '露除光炫玉，霜阙映雕银。', '舞接花梁燕，歌迎鸟路尘。', '镜池波太液，庄苑丽宜春。', '作异甘泉日，停非路寝辰。', '念劳惭逸己，居旷返劳神。', '楚王云梦泽，汉帝长杨宫。', '岂若因农暇，阅武出轘嵩。', '三驱陈锐卒，七萃列材雄。', '寒野霜氛白，平原烧火红。', '雕戈夏服箭，羽骑绿沉弓。', '怖兽潜幽壑，惊禽散翠空。', '长烟晦落景，灌木振严风。', '所为除民瘼，非是悦林丛。', '烈烈寒风起，惨惨飞云浮。', '霜浓凝广隰，冰厚结清流。', '金鞍移上苑，玉勒骋平畴。', '旌旗四望合，罝罗一面求。', '楚踣争兕殪，秦亡角鹿愁。', '兽忙投密树，鸿惊起砾洲。', '骑敛原尘静，戈回岭日收。', '心非洛汭逸，意在渭滨游。', '披襟眺沧海，凭轼玩春芳。', '积流横地纪，疏派引天潢。', '仙气凝三岭，和风扇八荒。', '拂潮云布色，穿浪日舒光。', '照岸花分彩，迷云雁断行。', '怀卑运深广，持满守灵长。', '有形非易测，无源讵可量。', '洪涛经变野，翠岛屡成桑。', '之罘思汉帝，碣石想秦皇。', '霓裳非本意，端拱且图王。', '春搜驰骏骨，总辔俯长河。', '霞处流萦锦，风前漾卷罗。', '水花翻照树，堤兰倒插波。', '岂必汾阴曲，秋云发棹歌。', '重峦俯渭水，碧嶂插遥天。', '出红扶岭日，入翠贮岩烟。', '叠松朝若夜，复岫阙疑全。', '对此恬千虑，无劳访九仙。', '高轩暧春色，邃阁媚朝光。', '彤庭飞彩旆，翠幌曜明珰。', '恭己临四极，垂衣驭八荒。', '霜戟列丹陛，丝竹韵长廊。', '穆矣熏风茂，康哉帝道昌。', '继文遵后轨，循古鉴前王。', '草秀故春色，梅艳昔年妆。', '巨川思欲济，终以寄舟航。', '凭轩俯兰阁，眺瞩散灵襟。', '绮峰含翠雾，照日蕊红林。', '镂丹霞锦岫，残素雪斑岑。', '拂浪堤垂柳，娇花鸟续吟。', '连甍岂一拱，众干如千寻。', '明非独材力，终藉栋梁深。', '弥怀矜乐志，更惧戒盈心。', '愧制劳居逸，方规十产金。', '寒随穷律变，春逐鸟声开。', '初风飘带柳，晚雪间花梅。', '碧林青旧竹，绿沼翠新苔。', '芝田初雁去，绮树巧莺来。', '晚霞聊自怡，初晴弥可喜。', '日晃百花色，风动千林翠。', '池鱼跃不同，园鸟声还异。', '寄言博通者，知予物外志。', '一朝春夏改，隔夜鸟花迁。', '阴阳深浅叶，晓夕重轻烟。', '哢莺犹响殿，横丝正网天。', '珮高兰影接，绶细草纹连。', '碧鳞惊棹侧，玄燕舞檐前。', '何必汾阳处，始复有山泉。', '夏律昨留灰，秋箭今移晷。', '峨嵋岫初出，洞庭波渐起。', '桂白发幽岩，菊黄开灞涘。', '运流方可叹，含毫属微理。', '寒惊蓟门叶，秋发小山枝。', '松阴背日转，竹影避风移。', '提壶菊花岸，高兴芙蓉池。', '欲知凉气早，巢空燕不窥。', '爽气浮丹阙，秋光澹紫宫。', '衣碎荷疏影，花明菊点丛。', '袍轻低草露，盖侧舞松风。', '散岫飘云叶，迷路飞烟鸿。', '砌冷兰凋佩，闺寒树陨桐。', '别鹤栖琴里，离猿啼峡中。', '落野飞星箭，弦虚半月弓。', '芳菲夕雾起，暮色满房栊。', '山亭秋色满，岩牖凉风度。', '疏兰尚染烟，残菊犹承露。', '古石衣新苔，新巢封古树。', '历览情无极，咫尺轮光暮。', '朝光浮烧野，霜华净碧空。', '结浪冰初镜，在径菊方丛。', '约岭烟深翠，分旗霞散红。', '抽思滋泉侧，飞想傅岩中。', '碧昏朝合雾，丹卷暝韬霞。', '结叶繁云色，凝琼遍雪华。', '光楼皎若粉，映幕集疑沙。', '泛柳飞飞絮，妆梅片片花。', '照璧台圆月，飘珠箔穿露。', '瑶洁短长阶，玉丛高下树。', '映桐珪累白，萦峰莲抱素。', '断续气将沉，徘徊岁云暮。', '怀珍愧隐德，表瑞伫丰年。', '蕊间飞禁苑，鹤处舞伊川。', '岭衔宵月桂，珠穿晓露丛。', '蝉啼觉树冷，萤火不温风。', '花生圆菊蕊，荷尽戏鱼通。', '晨浦鸣飞雁，夕渚集栖鸿。', '崇文时驻步，东观还停辇。', '辍膳玩三坟，晖灯披五典。', '寒心睹肉林，飞魄看沉湎。', '纵情昏主多，克己明君鲜。', '灭身资累恶，成名由积善。', '既承百王末，战兢随岁转。', '二仪初创象，三才乃分位。', '非惟树司牧，固亦垂文字。', '绵代更膺期，芳图无辍记。', '炎汉承君道，英谟纂神器。', '潜龙既可跃，逵兔奚难致。', '前史殚妙词，后昆沉雅思。', '书言扬盛迹，补阙兴洪志。', '川谷犹旧途，郡国开新意。', '梅山未觉朽，谷水谁云异。', '车服随名表，文物因时置。', '凤戟翼康衢，銮舆总柔辔。', '清浊必能澄，洪纤幸无弃。', '观仪不失序，遵礼方由事。', '政宣竹律和，时平玉条备。', '文囿雕奇彩，艺门蕴深致。', '云飞星共流，风扬月兼至。', '类禋遵令典，坛壝资良地。', '五胜竟无违，百司诚有庇。', '粤予承暇景，谈丛引泉秘。', '讨论穷义府，看核披经笥。', '大辨良难仰，小学终先匮。', '闻道谅知荣，含毫孰忘愧。', '萧条起关塞，摇飏下蓬瀛。', '拂林花乱彩，响谷鸟分声。', '披云罗影散，泛水织文生。', '劳歌大风曲，威加四海清。', '罩云飘远岫，喷雨泛长河。', '低飞昏岭腹，斜足洒岩阿。', '泫丛珠缔叶，起溜镜图波。', '濛柳添丝密，含吹织空罗。', '洁野凝晨曜，装墀带夕晖。', '集条分树玉，拂浪影泉玑。', '色洒妆台粉，花飘绮席衣。', '入扇萦离匣，点素皎残机。', '北阙三春晚，南荣九夏初。', '黄莺弄渐变，翠林花落馀。', '瀑流还响谷，猿啼自应虚。', '早荷向心卷，长杨就影舒。', '红轮不暂驻，乌飞岂复停。', '岑霞渐渐落，溪阴寸寸生。', '藿叶随光转，葵心逐照倾。', '晚烟含树色，栖鸟杂流声。', '高轩临碧渚，飞檐迥架空。', '馀花攒镂槛，残柳散雕栊。', '岸菊初含蕊，园梨始带红。', '莫虑昆山暗，还共尽杯中。', '结伴戏方塘，携手上雕航。', '船移分细浪，风散动浮香。', '游莺无定曲，惊凫有乱行。', '莲稀钏声断，水广棹歌长。', '华林满芳景，洛阳遍阳春。', '朱颜含远日，翠色影长津。', '乔柯啭娇鸟，低枝映美人。', '昔作园中实，今来席上珍。', '玉衡流桂圃，成蹊正可寻。', '莺啼密叶外，蝶戏脆花心。', '丽景光朝彩，轻霞散夕阴。', '暂顾晖章侧，还眺灵山林。', '岸曲非千里，桥斜异七星。', '暂低逢辇度，还高值浪惊。', '水摇文鹢动，缆转锦花萦。', '远近随轮影，轻重应人行。', '回銮游福地，极目玩芳晨。', '梵钟交二响，法日转双轮。', '宝刹遥承露，天花近足春。', '未佩兰犹小，无丝柳尚新。', '圆光低月殿，碎影乱风筠。', '对此留馀想，超然离俗尘。', '拂霞疑电落，腾虚状写虹。', '屈伸烟雾里，低举白云中。', '纷披乍依迥，掣曳或随风。', '念兹轻薄质，无翅强摇空。', '阊阖总金鞍，上林移玉辇。', '野郊怆新别，河桥非旧饯。', '惨日映峰沉，愁云随盖转。', '哀笳时断续，悲旌乍舒卷。', '望望情何极，浪浪泪空泫。', '无复昔时人，芳春共谁遣。', '凿门初奉律，仗战始临戎。', '振鳞方跃浪，骋翼正凌风。', '未展六奇术，先亏一篑功。', '防身岂乏智，殉命有馀忠。', '晦魄移中律，凝暄起丽城。', '罩云朝盖上，穿露晓珠呈。', '笑树花分色，啼枝鸟合声。', '披襟欢眺望，极目畅春情。', '秋日凝翠岭，凉吹肃离宫。', '荷疏一盖缺，树冷半帷空。', '侧阵移鸿影，圆花钉菊丛。', '摅怀俗尘外，高眺白云中。', '斜廊连绮阁，初月照宵帏。', '塞冷鸿飞疾，园秋蝉噪迟。', '露结林疏叶，寒轻菊吐滋。', '愁心逢此节，长叹独含悲。', '菊散金风起，荷疏玉露圆。', '将秋数行雁，离夏几林蝉。', '云凝愁半岭，霞碎缬高天。', '还似成都望，直见峨眉前。', '爽气澄兰沼，秋风动桂林。', '露凝千片玉，菊散一丛金。', '日岫高低影，云空点缀阴。', '蓬瀛不可望，泉石且娱心。', '雕宫静龙漏，绮阁宴公侯。', '珠帘烛焰动，绣柱月光浮。', '云起将歌发，风停与管遒。', '琐除任多士，端扆竟何忧。', '石鲸分玉溜，劫烬隐平沙。', '柳影冰无叶，梅心冻有花。', '寒野凝朝雾，霜天散夕霞。', '欢情犹未极，落景遽西斜。', '冻云宵遍岭，素雪晓凝华。', '入牖千重碎，迎风一半斜。', '不妆空散粉，无树独飘花。', '萦空惭夕照，破彩谢晨霞。', '暮景斜芳殿，年华丽绮宫。', '寒辞去冬雪，暖带入春风。', '阶馥舒梅素，盘花卷烛红。', '共欢新故岁，迎送一宵中。', '岁阴穷暮纪，献节启新芳。', '冬尽今宵促，年开明日长。', '冰消出镜水，梅散入风香。', '对此欢终宴，倾壶待曙光。', '和气吹绿野，梅雨洒芳田。', '新流添旧涧，宿雾足朝烟。', '雁湿行无次，花沾色更鲜。', '对此欣登岁，披襟弄五弦。', '翠楼含晓雾，莲峰带晚云。', '玉叶依岩聚，金枝触石分。', '横天结阵影，逐吹起罗文。', '非复阳台下，空将惑楚君。', '绮筵移暮景，紫阁引宵烟。', '隔栋歌尘合，分阶舞影连。', '声流三处管，响乱一重弦。', '不似秦楼上，吹箫空学仙。', '残云收翠岭，夕雾结长空。', '带岫凝全碧，障霞隐半红。', '仿佛分初月，飘飖度晓风。', '还因三里处，冠盖远相通。', '兰气已熏宫，新蕊半妆丛。', '色含轻重雾，香引去来风。', '拂树浓舒碧，萦花薄蔽红。', '还当杂行雨，仿佛隐遥空。', '年柳变池台，隋堤曲直回。', '逐浪丝阴去，迎风带影来。', '疏黄一鸟弄，半翠几眉开。', '萦雪临春岸，参差间早梅。', '春晖开紫苑，淑景媚兰场。', '映庭含浅色，凝露泫浮光。', '日丽参差影，风传轻重香。', '会须君子折，佩里作芬芳。', '禁苑春晖丽，花蹊绮树妆。', '缀条深浅色，点露参差光。', '向日分千笑，迎风共一香。', '如何仙岭侧，独秀隐遥芳。', '参差垂玉阙，舒卷映兰宫。', '珠光摇素月，竹影乱清风。', '彩散银钩上，文斜桂户中。', '惟当杂罗绮，相与媚房栊。', '凌晨丽城去，薄暮上林栖。', '辞枝枝暂起，停树树还低。', '向日终难托，迎风讵肯迷。', '只待纤纤手，曲里作宵啼。', '骏骨饮长泾，奔流洒络缨。', '细纹连喷聚，乱荇绕蹄萦。', '水光鞍上侧，马影溜中横。', '翻似天池里，腾波龙种生。', '阶兰凝曙霜，岸菊照晨光。', '露浓晞晚笑，风劲浅残香。', '细叶凋轻翠，圆花飞碎黄。', '还持今岁色，复结后年芳。', '秋露凝高掌，朝光上翠微。', '参差丽双阙，照耀满重闱。', '仙驭随轮转，灵乌带影飞。', '临波无定彩，入隙有圆晖。', '半月无双影，全花有四时。', '摧藏千里态，掩抑几重悲。', '促节萦红袖，清音满翠帷。', '驶弹风响急，缓曲钏声迟。', '驱马出辽阳，万里转旂常。', '对敌六奇举，临戎八阵张。', '斩鲸澄碧海，卷雾扫扶桑。', '昔去兰萦翠，今来桂染芳。', '云芝浮碎叶，冰镜上朝光。', '回首长安道，方欢宴柏梁。', '四时运灰琯，一夕变冬春。', '送寒馀雪尽，迎岁早梅新。', '焰听风来动，花开不待春。', '镇下千行泪，非是为思人。', '九龙蟠焰动，四照逐花生。', '即此流高殿，堪持待月明。', '上弦明月半，激箭流星远。', '落雁带书惊，啼猿映枝转。', '初秋玉露清，早雁出空鸣。', '隔云时乱影，因风乍含声。', '岸曲丝阴聚，波移带影疏。', '还将眉里翠，来就镜中舒。', '贞条障曲砌，翠叶贯寒霜。', '拂牖分龙影，临池待凤翔。', '散影玉阶柳，含翠隐鸣蝉。', '微形藏叶里，乱响出风前。', '盘根直盈渚，交干横倚天。', '舒华光四海，卷叶荫三川。', '近谷交萦蕊，遥峰对出莲。', '径细无全磴，松小未含烟。', '疾风知劲草，板荡识诚臣。', '勇夫安识义，智者必怀仁。', '太液仙舟迥，西园隐上才。', '未晓征车度，鸡鸣关早开。', '烟生遥岸隐，月落半崖阴。', '连山惊鸟乱，隔岫断猿吟。', '雪耻酬百王，除凶报千古。', '昔乘匹马去，今驱万乘来。', '近日毛虽暖，闻弦心已惊。']\n"
          ]
        }
      ]
    },
    {
      "cell_type": "code",
      "execution_count": null,
      "metadata": {
        "colab": {
          "base_uri": "https://localhost:8080/"
        },
        "id": "q_b8PZrF7xGr",
        "outputId": "95fe97a6-ee40-4e73-e4c9-e5323b163ad9"
      },
      "outputs": [
        {
          "output_type": "stream",
          "name": "stdout",
          "text": [
            "vocabulary size: 1363\n",
            "poem lines: 481\n"
          ]
        }
      ],
      "source": [
        "\n",
        "\n",
        "first_char = set()\n",
        "\n",
        "word_dict = set()\n",
        "\n",
        "for sentence in raw_data:\n",
        "    first_char.add(sentence[0])\n",
        "    for char in sentence:\n",
        "        if char not in word_dict:\n",
        "            word_dict.add(char)\n",
        "word_dict.add('eos')#end of sentence\n",
        "word2indx = {word:idx for idx,word in enumerate(sorted(word_dict))}#dictionary\n",
        "indx2word = {idx:word for idx,word in enumerate(sorted(word_dict))}\n",
        "print('vocabulary size:', len(word2indx))\n",
        "print('poem lines:', len(raw_data))\n",
        "\n",
        "def make_one_case(sentence) -> (torch.tensor, torch.tensor):#create input and output\n",
        "    sentence = list(sentence)\n",
        "    sentence.append('eos')\n",
        "    length = len(sentence)\n",
        "    inputs = []\n",
        "    targets = []\n",
        "    for i in range(1, length):\n",
        "        pre = sentence[i-1]\n",
        "        nex = sentence[i]\n",
        "        inputs.append(word2indx[pre])#construct input\n",
        "        targets.append(word2indx[nex])#construct output\n",
        "    return torch.tensor(inputs, dtype=torch.long), torch.tensor(targets, dtype=torch.long)\n",
        "\n"
      ]
    },
    {
      "cell_type": "code",
      "source": [
        "\n",
        "class Net(nn.Module):\n",
        "    \n",
        "    def __init__(self, vocab_size, embedding_size, hidden_size):\n",
        "        super().__init__()\n",
        "        self.hidden_size = hidden_size\n",
        "        self.embed = nn.Embedding(vocab_size, embedding_size)\n",
        "        self.lstm = nn.LSTM(input_size=embedding_size, hidden_size=self.hidden_size)\n",
        "        self.fc1 = nn.Linear(self.hidden_size, vocab_size)\n",
        "        \n",
        "    def forward(self, sentence, hidden):\n",
        "        seq_length = sentence.size()[0]#length per sentence (sequence)\n",
        "        embeds = self.embed(sentence).view(seq_length, 1, -1)\n",
        "        # after embbeding reshape as (time_step, batch, embedding_size)\n",
        "        lstm_out, hidden = self.lstm(embeds, hidden)\n",
        "        output = F.relu(self.fc1(lstm_out.view(seq_length, -1)))#relu activation\n",
        "        output = F.log_softmax(output, dim=1)#softmax to get prob\n",
        "        return output, hidden\n",
        "        \n",
        "    def init_hidden(self):\n",
        "        return (torch.zeros(1,1,self.hidden_size).cuda(),\n",
        "                torch.zeros(1,1,self.hidden_size).cuda())\n",
        "    \n",
        "# hyperparameters\n",
        "VOCAB_SIZE = len(word2indx)\n",
        "HIDDEN_SIZE = 256\n",
        "EMBEDDING_SIZE = 128\n",
        "\n",
        "model = Net(VOCAB_SIZE, EMBEDDING_SIZE, HIDDEN_SIZE).cuda()\n",
        "optimizer = optim.Adam(model.parameters(), lr=0.01, weight_decay=0.00001)\n",
        "loss_function = nn.NLLLoss()"
      ],
      "metadata": {
        "id": "75u46Eo1xnO0"
      },
      "execution_count": null,
      "outputs": []
    },
    {
      "cell_type": "code",
      "source": [
        "print(model)\n",
        "model"
      ],
      "metadata": {
        "colab": {
          "base_uri": "https://localhost:8080/"
        },
        "id": "TDMPGIst7d8Q",
        "outputId": "f44815ad-04aa-4a4e-fa9b-6653bd4f0671"
      },
      "execution_count": null,
      "outputs": [
        {
          "output_type": "stream",
          "name": "stdout",
          "text": [
            "Net(\n",
            "  (embed): Embedding(1363, 128)\n",
            "  (lstm): LSTM(128, 256)\n",
            "  (fc1): Linear(in_features=256, out_features=1363, bias=True)\n",
            ")\n"
          ]
        },
        {
          "output_type": "execute_result",
          "data": {
            "text/plain": [
              "Net(\n",
              "  (embed): Embedding(1363, 128)\n",
              "  (lstm): LSTM(128, 256)\n",
              "  (fc1): Linear(in_features=256, out_features=1363, bias=True)\n",
              ")"
            ]
          },
          "metadata": {},
          "execution_count": 7
        }
      ]
    },
    {
      "cell_type": "code",
      "source": [
        "\n",
        "\n",
        "\n",
        "train = True\n",
        "if os.path.exists('params_last.pkl'):\n",
        "    model.load_state_dict(torch.load('params_last.pkl'))\n",
        "    train = False\n",
        "if train == False:\n",
        "    ans = input(r'Trained model already exists, still training? (Y/N):')\n",
        "    if ans == 'Y' or ans == 'y':\n",
        "        train = True\n",
        "\n",
        "\n",
        "# SGD batch_size=1\n",
        "if train:\n",
        "    print('train start')\n",
        "    epoch = 100\n",
        "    batch_size = len(raw_data)\n",
        "    Loss = []\n",
        "    start_time = time.time()\n",
        "    for i in range(epoch):\n",
        "        _loss = 0\n",
        "        indxs = list(range(batch_size))\n",
        "        random.shuffle(indxs)\n",
        "        for j in indxs:\n",
        "            inputs, targets = make_one_case(raw_data[j])\n",
        "            inputs=inputs.cuda()\n",
        "            targets=targets.cuda()\n",
        "            hidden = model.init_hidden()\n",
        "\n",
        "            outputs, hidden = model(inputs, hidden)\n",
        "            loss = loss_function(outputs, targets)\n",
        "            optimizer.zero_grad()\n",
        "            loss.backward()\n",
        "            optimizer.step()\n",
        "            _loss += loss.item()\n",
        "        _loss /= batch_size\n",
        "        print('epoch:{}, loss:{:.2f}'.format(i, _loss))\n",
        "        if i % 10 == 0:\n",
        "            torch.save(model.state_dict(), 'params_%depoch.pkl'%i)\n",
        "        Loss.append(_loss)\n",
        "    end_time = time.time()\n",
        "    print('train done, cost{}s'.format(end_time-start_time))\n",
        "    torch.save(model.state_dict(), 'params_last.pkl')\n",
        "    plt.plot(range(len(Loss)), Loss, label='Loss')\n",
        "    plt.legend()\n",
        "    plt.xlabel('epoch')\n",
        "    plt.ylabel('loss')\n",
        "    plt.show()\n"
      ],
      "metadata": {
        "colab": {
          "base_uri": "https://localhost:8080/",
          "height": 1000
        },
        "id": "V7i0BvGjg6Mp",
        "outputId": "501b3116-8ee7-4a40-8591-b0aa679323fc"
      },
      "execution_count": null,
      "outputs": [
        {
          "output_type": "stream",
          "name": "stdout",
          "text": [
            "Trained model already exists, still training? (Y/N):y\n",
            "train start\n",
            "epoch:0, loss:4.97\n",
            "epoch:1, loss:4.66\n",
            "epoch:2, loss:4.30\n",
            "epoch:3, loss:3.81\n",
            "epoch:4, loss:3.52\n",
            "epoch:5, loss:3.48\n",
            "epoch:6, loss:3.46\n",
            "epoch:7, loss:3.46\n",
            "epoch:8, loss:3.41\n",
            "epoch:9, loss:3.30\n",
            "epoch:10, loss:3.27\n",
            "epoch:11, loss:3.32\n",
            "epoch:12, loss:3.23\n",
            "epoch:13, loss:3.20\n",
            "epoch:14, loss:3.25\n",
            "epoch:15, loss:3.18\n",
            "epoch:16, loss:3.11\n",
            "epoch:17, loss:3.06\n",
            "epoch:18, loss:3.09\n",
            "epoch:19, loss:3.17\n",
            "epoch:20, loss:3.28\n",
            "epoch:21, loss:3.36\n",
            "epoch:22, loss:3.23\n",
            "epoch:23, loss:3.10\n",
            "epoch:24, loss:3.02\n",
            "epoch:25, loss:2.95\n",
            "epoch:26, loss:2.99\n",
            "epoch:27, loss:3.12\n",
            "epoch:28, loss:3.10\n",
            "epoch:29, loss:3.02\n",
            "epoch:30, loss:2.96\n",
            "epoch:31, loss:2.92\n",
            "epoch:32, loss:2.87\n",
            "epoch:33, loss:2.80\n",
            "epoch:34, loss:2.83\n",
            "epoch:35, loss:2.90\n",
            "epoch:36, loss:2.89\n",
            "epoch:37, loss:2.96\n",
            "epoch:38, loss:2.92\n",
            "epoch:39, loss:2.93\n",
            "epoch:40, loss:2.83\n",
            "epoch:41, loss:2.81\n",
            "epoch:42, loss:2.86\n",
            "epoch:43, loss:2.86\n",
            "epoch:44, loss:2.77\n",
            "epoch:45, loss:2.77\n",
            "epoch:46, loss:2.72\n",
            "epoch:47, loss:2.76\n",
            "epoch:48, loss:2.69\n",
            "epoch:49, loss:2.67\n",
            "epoch:50, loss:2.67\n",
            "epoch:51, loss:2.78\n",
            "epoch:52, loss:3.15\n",
            "epoch:53, loss:3.08\n",
            "epoch:54, loss:2.88\n",
            "epoch:55, loss:2.72\n",
            "epoch:56, loss:2.66\n",
            "epoch:57, loss:2.72\n",
            "epoch:58, loss:2.70\n",
            "epoch:59, loss:2.74\n",
            "epoch:60, loss:2.73\n",
            "epoch:61, loss:2.69\n",
            "epoch:62, loss:2.71\n",
            "epoch:63, loss:2.72\n",
            "epoch:64, loss:2.65\n",
            "epoch:65, loss:2.56\n",
            "epoch:66, loss:2.51\n",
            "epoch:67, loss:2.58\n",
            "epoch:68, loss:2.62\n",
            "epoch:69, loss:2.70\n",
            "epoch:70, loss:2.69\n",
            "epoch:71, loss:2.63\n",
            "epoch:72, loss:2.60\n",
            "epoch:73, loss:2.59\n",
            "epoch:74, loss:2.57\n",
            "epoch:75, loss:2.51\n",
            "epoch:76, loss:2.47\n",
            "epoch:77, loss:2.46\n",
            "epoch:78, loss:2.52\n",
            "epoch:79, loss:2.58\n",
            "epoch:80, loss:2.58\n",
            "epoch:81, loss:2.56\n",
            "epoch:82, loss:2.51\n",
            "epoch:83, loss:2.49\n",
            "epoch:84, loss:2.49\n",
            "epoch:85, loss:2.47\n",
            "epoch:86, loss:2.48\n",
            "epoch:87, loss:2.46\n",
            "epoch:88, loss:2.48\n",
            "epoch:89, loss:2.46\n",
            "epoch:90, loss:2.48\n",
            "epoch:91, loss:2.51\n",
            "epoch:92, loss:2.54\n",
            "epoch:93, loss:2.52\n",
            "epoch:94, loss:2.48\n",
            "epoch:95, loss:2.42\n",
            "epoch:96, loss:2.45\n",
            "epoch:97, loss:2.42\n",
            "epoch:98, loss:2.38\n",
            "epoch:99, loss:2.37\n",
            "train done, cost112.13684844970703s\n"
          ]
        },
        {
          "output_type": "display_data",
          "data": {
            "text/plain": [
              "<Figure size 432x288 with 1 Axes>"
            ],
            "image/png": "[encoded data removed]"
          },
          "metadata": {
            "needs_background": "light"
          }
        }
      ]
    },
    {
      "cell_type": "code",
      "source": [
        "def test():\n",
        "  def sample(startword, max_len=11) -> str:\n",
        "    if startword not in word_dict:\n",
        "        return 'null'\n",
        "    inputs = torch.tensor([word2indx[startword]], dtype=torch.long).cuda()\n",
        "    #inpts=inputs.cuda()\n",
        "    output_poetry = startword\n",
        "    hidden = model.init_hidden()\n",
        "    for i in range(max_len):\n",
        "        outputs, hidden = model(inputs, hidden)\n",
        "        topv, topi = outputs.data.topk(1)\n",
        "        w = topi[0][0].item()\n",
        "        word = indx2word[w]\n",
        "        if word == 'eos':\n",
        "            break\n",
        "        else:\n",
        "            output_poetry += word\n",
        "        inputs = torch.tensor([w], dtype=torch.long).cuda()\n",
        "    return output_poetry\n",
        "\n",
        "  nums = 8\n",
        "  for i in range(nums):\n",
        "      word = random.sample(list(first_char), 1)[0]\n",
        "      print(sample(startword=word, max_len=11))"
      ],
      "metadata": {
        "id": "pqH-N8BGg6vY"
      },
      "execution_count": null,
      "outputs": []
    },
    {
      "cell_type": "code",
      "source": [
        "ans = input(r'Input id of epoch? (-1 for last):')\n",
        "if ans == '-1':\n",
        "    model.load_state_dict(torch.load('params_last.pkl'))\n",
        "if int(ans)%20==0:\n",
        "    model.load_state_dict(torch.load('params_{}epoch.pkl'.format(ans)))"
      ],
      "metadata": {
        "colab": {
          "base_uri": "https://localhost:8080/",
          "height": 263
        },
        "outputId": "70d4b590-e03f-4a38-e5f5-18aa702ffe77",
        "id": "DMC-pvx6sh1W"
      },
      "execution_count": null,
      "outputs": [
        {
          "name": "stdout",
          "output_type": "stream",
          "text": [
            "Input id of epoch? (-1 for last):-1\n"
          ]
        },
        {
          "output_type": "error",
          "ename": "NameError",
          "evalue": "ignored",
          "traceback": [
            "\u001b[0;31m---------------------------------------------------------------------------\u001b[0m",
            "\u001b[0;31mNameError\u001b[0m                                 Traceback (most recent call last)",
            "\u001b[0;32m<ipython-input-2-8b4a5f4316e8>\u001b[0m in \u001b[0;36m<module>\u001b[0;34m()\u001b[0m\n\u001b[1;32m      1\u001b[0m \u001b[0mans\u001b[0m \u001b[0;34m=\u001b[0m \u001b[0minput\u001b[0m\u001b[0;34m(\u001b[0m\u001b[0;34mr'Input id of epoch? (-1 for last):'\u001b[0m\u001b[0;34m)\u001b[0m\u001b[0;34m\u001b[0m\u001b[0;34m\u001b[0m\u001b[0m\n\u001b[1;32m      2\u001b[0m \u001b[0;32mif\u001b[0m \u001b[0mans\u001b[0m \u001b[0;34m==\u001b[0m \u001b[0;34m'-1'\u001b[0m\u001b[0;34m:\u001b[0m\u001b[0;34m\u001b[0m\u001b[0;34m\u001b[0m\u001b[0m\n\u001b[0;32m----> 3\u001b[0;31m     \u001b[0mmodel\u001b[0m\u001b[0;34m.\u001b[0m\u001b[0mload_state_dict\u001b[0m\u001b[0;34m(\u001b[0m\u001b[0mtorch\u001b[0m\u001b[0;34m.\u001b[0m\u001b[0mload\u001b[0m\u001b[0;34m(\u001b[0m\u001b[0;34m'params_last.pkl'\u001b[0m\u001b[0;34m)\u001b[0m\u001b[0;34m)\u001b[0m\u001b[0;34m\u001b[0m\u001b[0;34m\u001b[0m\u001b[0m\n\u001b[0m\u001b[1;32m      4\u001b[0m \u001b[0;32mif\u001b[0m \u001b[0mint\u001b[0m\u001b[0;34m(\u001b[0m\u001b[0mans\u001b[0m\u001b[0;34m)\u001b[0m\u001b[0;34m%\u001b[0m\u001b[0;36m20\u001b[0m\u001b[0;34m==\u001b[0m\u001b[0;36m0\u001b[0m\u001b[0;34m:\u001b[0m\u001b[0;34m\u001b[0m\u001b[0;34m\u001b[0m\u001b[0m\n\u001b[1;32m      5\u001b[0m     \u001b[0mmodel\u001b[0m\u001b[0;34m.\u001b[0m\u001b[0mload_state_dict\u001b[0m\u001b[0;34m(\u001b[0m\u001b[0mtorch\u001b[0m\u001b[0;34m.\u001b[0m\u001b[0mload\u001b[0m\u001b[0;34m(\u001b[0m\u001b[0;34m'params_{}epoch.pkl'\u001b[0m\u001b[0;34m.\u001b[0m\u001b[0mformat\u001b[0m\u001b[0;34m(\u001b[0m\u001b[0mans\u001b[0m\u001b[0;34m)\u001b[0m\u001b[0;34m)\u001b[0m\u001b[0;34m)\u001b[0m\u001b[0;34m\u001b[0m\u001b[0;34m\u001b[0m\u001b[0m\n",
            "\u001b[0;31mNameError\u001b[0m: name 'model' is not defined"
          ]
        }
      ]
    },
    {
      "cell_type": "code",
      "source": [
        "start=time.time()\n",
        "for i in range(10):\n",
        "    print(i)\n",
        "    model.load_state_dict(torch.load('params_{}epoch.pkl'.format(i*10)))\n",
        "    test()\n",
        "print(\"last\")\n",
        "test()\n",
        "end=time.time()\n",
        "print(end-start)"
      ],
      "metadata": {
        "colab": {
          "base_uri": "https://localhost:8080/"
        },
        "id": "SrMdnaTltzPk",
        "outputId": "1513f9bc-1233-484b-c3bd-862a1e9d1328"
      },
      "execution_count": null,
      "outputs": [
        {
          "output_type": "stream",
          "name": "stdout",
          "text": [
            "0\n",
            "悠兹一上侧，高宴散雕空。\n",
            "暮兹兹上侧，高宴散雕空。\n",
            "琐除光无劳，端霞散雕空。\n",
            "未流初壮处，霜阙一重弦。\n",
            "凿兹兹台兹，树花半云空。\n",
            "拂林花玉彩，霜节一重弦。\n",
            "侧惊雁无色，轻花飞云光。\n",
            "上弦明月月，轻结半月空。\n",
            "1\n",
            "瑞气萦丹阙，花残菊花。\n",
            "塞，含翠隐。\n",
            "驶蝉难文，高移乃可寻。\n",
            "有形光浮烧野，怀翠流隐转\n",
            "紫叶行茨约，日转今林蝉。\n",
            "翻似。\n",
            "弱龄逢运改，提剑郁匡时。\n",
            "霓合明怀，携手上雕航。\n",
            "2\n",
            "未晓征车阴，临池一重度。\n",
            "类林满，秋燕不壮芳。\n",
            "宝珠月，入花有四时。\n",
            "辍仙龙既举律，方欢访莘情\n",
            "凭轩俯兰。\n",
            "都阳处巡前碧，圆曲迥千诚\n",
            "远近随轮影连，轮差间枝枝\n",
            "代马依犹旧，今移带飞烟。\n",
            "3\n",
            "循躬思汉云斜桂，珠吹。\n",
            "贞条风，初动初风香。\n",
            "粤汉，书文有弦，清歌凝深\n",
            "宝穿日停非，芳火乃梁前。\n",
            "芸谷移。\n",
            "彤散影玉阶柳，含翠隐半红\n",
            "无复昔年怀壮气，提石移玉\n",
            "积流，无为任百司。\n",
            "4\n",
            "远近随轮转，风已重应人。\n",
            "烟波澄旧碧，离宫半翠晚叶\n",
            "组后轨。\n",
            "观极，玉必汾阳处，萦峰莲\n",
            "别初秋玉乱，玉重花生圆菊\n",
            "二睹，晓里作宵丰。\n",
            "蓬晓征，飘云。\n",
            "丽绮宫，风劲多今来。\n",
            "5\n",
            "芝浮碎叶，冰镜上朝光。\n",
            "惨日映峰沉影，云空散雕栊\n",
            "残云随盖转，方日转旂碧转\n",
            "怀至道，欢芳春。\n",
            "寄生遥何初奉律，花蹊绮树\n",
            "玄尽日雾起，明君气澄兰。\n",
            "况兹承百王阳，秋光上雕航\n",
            "人道恶高危，虚心戒盈名表\n",
            "6\n",
            "振动初阳，飘戟流还风。\n",
            "迥飞盖去，今处高带柳，轻\n",
            "霓动中中。\n",
            "寒惊开重月，乱寻既往。\n",
            "架海波澄镜，携手松。\n",
            "阴阳深浅叶，晓夕重轻烟。\n",
            "彩重轻烟，风香动香。\n",
            "楚王随轮影，携手上雕航。\n",
            "7\n",
            "阊不妆空散叶，穿浪日舒光\n",
            "羽乱重雾。\n",
            "罩云盖龙丽节，晓夕照倾连\n",
            "蓬王既承君道，妆。\n",
            "积流萦地览情，今兰殿。\n",
            "庶仪初轩，明雾起去，百司\n",
            "袍轻低草露，抚躬映轻翠。\n",
            "衣驭晓珠，晓夕重轻。\n",
            "8\n",
            "圆盖名表，吹战心。\n",
            "共乐还将草，冠盖远相通。\n",
            "得弥朝万国，还交辉隐金，\n",
            "初奉律，更柳飞。\n",
            "彩凤太液仙舟迥，冠盖远相\n",
            "欲知，迎风一半斜。\n",
            "罗绮合无故，文聊，方里作\n",
            "冰消出辽阳，迎风举。\n",
            "9\n",
            "屈玉露浓柳影，虚心戒盈带\n",
            "叠松朝四，清歌凝白雪。\n",
            "梵钟交年芳凝累衣云叶，花\n",
            "星旂电举，日浪惊棹条赏阙\n",
            "浪冰消出镜水，停树还低。\n",
            "凭轩俯兰殿，遵后年芳。\n",
            "高谈先马度，峰带入春风。\n",
            "回首长难里，遥空异。\n",
            "last\n",
            "烈魄满桂枝圆，轮亏镜时。\n",
            "驻辇，还眺灵山林。\n",
            "集条风枝动，华丽绮镜。\n",
            "飞盖去，兹乃既往。\n",
            "皎佩星连景，飘衣云空。\n",
            "鸣散碧，尘火红。\n",
            "晦魄移中律，凝条条风开。\n",
            "烈魄满桂枝圆，轮亏镜时。\n",
            "0.5189790725708008\n"
          ]
        }
      ]
    },
    {
      "cell_type": "code",
      "source": [
        "print(model)"
      ],
      "metadata": {
        "colab": {
          "base_uri": "https://localhost:8080/",
          "height": 173
        },
        "id": "Q6U9Feqm3k-v",
        "outputId": "870dd33d-ca73-41a3-d030-bb2798b699bc"
      },
      "execution_count": null,
      "outputs": [
        {
          "output_type": "error",
          "ename": "NameError",
          "evalue": "ignored",
          "traceback": [
            "\u001b[0;31m---------------------------------------------------------------------------\u001b[0m",
            "\u001b[0;31mNameError\u001b[0m                                 Traceback (most recent call last)",
            "\u001b[0;32m<ipython-input-18-a87813ffe34d>\u001b[0m in \u001b[0;36m<module>\u001b[0;34m()\u001b[0m\n\u001b[0;32m----> 1\u001b[0;31m \u001b[0mprint\u001b[0m\u001b[0;34m(\u001b[0m\u001b[0mmodel\u001b[0m\u001b[0;34m)\u001b[0m\u001b[0;34m\u001b[0m\u001b[0;34m\u001b[0m\u001b[0m\n\u001b[0m",
            "\u001b[0;31mNameError\u001b[0m: name 'model' is not defined"
          ]
        }
      ]
    }
  ]
}